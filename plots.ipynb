{
 "cells": [
  {
   "cell_type": "code",
   "execution_count": 2,
   "id": "5e462927-04a5-4f29-bfd8-f2c627f971c3",
   "metadata": {},
   "outputs": [],
   "source": [
    "import pandas as pd\n",
    "import numpy as np\n",
    "import matplotlib.pyplot as plt\n",
    "import seaborn as sns\n",
    "%matplotlib inline"
   ]
  },
  {
   "cell_type": "code",
   "execution_count": 11,
   "id": "78cf5d40-471f-42a2-8542-4318e38e4770",
   "metadata": {},
   "outputs": [],
   "source": [
    "def get_feature_type(family):\n",
    "    f = family.lower()\n",
    "    if f.startswith(\"tfidf\"):\n",
    "        return \"tfidf\"\n",
    "    elif f.startswith(\"fasttext\"):\n",
    "        return \"fasttext\"\n",
    "    elif f.startswith(\"wfe\"):\n",
    "        return \"wfe\"\n",
    "    elif f.startswith(\"wefe\"):\n",
    "        return \"wefe\"\n",
    "    elif f.startswith(\"fe\"):\n",
    "        return \"fe\"\n",
    "    elif f.startswith(\"we\"):\n",
    "        return \"we\"\n",
    "    else:\n",
    "        return \"other\"  # just in case"
   ]
  },
  {
   "cell_type": "markdown",
   "id": "f1147ae1-f8e9-4074-ae89-2ac9c53ae499",
   "metadata": {},
   "source": [
    "# CLUSTERING PLOTS"
   ]
  },
  {
   "cell_type": "markdown",
   "id": "29bab786-0349-43e7-a231-01b0f4fd17b9",
   "metadata": {},
   "source": [
    "## JETSON"
   ]
  },
  {
   "cell_type": "code",
   "execution_count": 3,
   "id": "89c5872e-ed7f-450f-a5c3-8718255d4ecc",
   "metadata": {},
   "outputs": [],
   "source": [
    "clst_data = pd.read_csv(\"./generated/jetson/clustering/all_lang.csv\")"
   ]
  },
  {
   "cell_type": "code",
   "execution_count": 12,
   "id": "b79e7f58-0c31-47d3-a67e-9bc3cfcbb128",
   "metadata": {},
   "outputs": [],
   "source": [
    "clst_data['FeatureType'] = clst_data['FeatureFamily'].apply(get_feature_type)"
   ]
  },
  {
   "cell_type": "code",
   "execution_count": 13,
   "id": "02301db0-3e11-43a5-8164-3cff5b475790",
   "metadata": {},
   "outputs": [
    {
     "data": {
      "text/plain": [
       "FeatureType\n",
       "we          400\n",
       "wfe         160\n",
       "fe          160\n",
       "wefe        160\n",
       "tfidf        50\n",
       "fasttext     50\n",
       "Name: count, dtype: int64"
      ]
     },
     "execution_count": 13,
     "metadata": {},
     "output_type": "execute_result"
    }
   ],
   "source": [
    "clst_data['FeatureType'].value_counts()"
   ]
  },
  {
   "cell_type": "code",
   "execution_count": 6,
   "id": "55feecef-5e58-4994-b4b6-2dda6d3e8c5f",
   "metadata": {},
   "outputs": [
    {
     "data": {
      "image/png": "[encoded data removed]",
      "text/plain": [
       "<Figure size 700x500 with 1 Axes>"
      ]
     },
     "metadata": {},
     "output_type": "display_data"
    }
   ],
   "source": [
    "# Example 2D array: each sublist is one box\n",
    "data = [\n",
    "    np.random.normal(10, 2, 50),\n",
    "    np.random.normal(15, 3, 50),\n",
    "    np.random.normal(20, 4, 50),\n",
    "]\n",
    "\n",
    "fig, ax = plt.subplots(figsize=(7,5))\n",
    "\n",
    "# Custom styles for each box\n",
    "colors = ['skyblue', 'lightgreen', 'salmon']\n",
    "hatches = ['/', '\\\\', 'x']\n",
    "positions = [1, 3, 5]  # manual spacing (instead of default 1,2,3...)\n",
    "\n",
    "for i, arr in enumerate(data):\n",
    "    box = ax.boxplot(\n",
    "        arr,\n",
    "        positions=[positions[i]],\n",
    "        widths=0.8,\n",
    "        patch_artist=True  # needed to fill with color\n",
    "    )\n",
    "    # Style the box\n",
    "    for patch in box['boxes']:\n",
    "        patch.set(facecolor=colors[i], hatch=hatches[i], edgecolor='black')\n",
    "    for whisker in box['whiskers']:\n",
    "        whisker.set(color='black')\n",
    "    for cap in box['caps']:\n",
    "        cap.set(color='black')\n",
    "    for median in box['medians']:\n",
    "        median.set(color='red', linewidth=2)\n",
    "\n",
    "ax.set_xticks(positions)\n",
    "ax.set_xticklabels([f\"Box {i+1}\" for i in range(len(data))])\n",
    "ax.set_title(\"Custom Boxplots\")\n",
    "plt.show()"
   ]
  },
  {
   "cell_type": "code",
   "execution_count": null,
   "id": "849fcaf3-a867-4d63-80bd-e37339503101",
   "metadata": {},
   "outputs": [],
   "source": []
  },
  {
   "cell_type": "code",
   "execution_count": null,
   "id": "28c910ec-3529-4402-82db-facb1ff920c2",
   "metadata": {},
   "outputs": [],
   "source": []
  },
  {
   "cell_type": "code",
   "execution_count": null,
   "id": "cab63e2e-a11d-45e6-93d2-e39c7887b78c",
   "metadata": {},
   "outputs": [],
   "source": []
  },
  {
   "cell_type": "code",
   "execution_count": null,
   "id": "f202b840-8ae7-4f1c-91ae-f971f03aeea4",
   "metadata": {},
   "outputs": [],
   "source": []
  },
  {
   "cell_type": "code",
   "execution_count": null,
   "id": "0a99db18-8c57-44d9-9a78-56ae96ba4e4f",
   "metadata": {},
   "outputs": [],
   "source": []
  }
 ],
 "metadata": {
  "kernelspec": {
   "display_name": "Python 3 (ipykernel)",
   "language": "python",
   "name": "python3"
  },
  "language_info": {
   "codemirror_mode": {
    "name": "ipython",
    "version": 3
   },
   "file_extension": ".py",
   "mimetype": "text/x-python",
   "name": "python",
   "nbconvert_exporter": "python",
   "pygments_lexer": "ipython3",
   "version": "3.12.11"
  }
 },
 "nbformat": 4,
 "nbformat_minor": 5
}
